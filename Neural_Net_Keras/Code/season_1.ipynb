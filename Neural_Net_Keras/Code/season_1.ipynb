{
  "cells": [
    {
      "cell_type": "markdown",
      "metadata": {},
      "source": [
        "# Sequential API"
      ]
    },
    {
      "cell_type": "code",
      "execution_count": 1,
      "metadata": {
        "colab": {
          "base_uri": "https://localhost:8080/"
        },
        "id": "Ds8zJsRrXcPc",
        "outputId": "dad679a0-a4a5-403b-b14c-447387d6f551"
      },
      "outputs": [
        {
          "name": "stdout",
          "output_type": "stream",
          "text": [
            "Downloading data from https://storage.googleapis.com/tensorflow/tf-keras-datasets/train-labels-idx1-ubyte.gz\n",
            "29515/29515 [==============================] - 0s 0us/step\n",
            "Downloading data from https://storage.googleapis.com/tensorflow/tf-keras-datasets/train-images-idx3-ubyte.gz\n",
            "26421880/26421880 [==============================] - 0s 0us/step\n",
            "Downloading data from https://storage.googleapis.com/tensorflow/tf-keras-datasets/t10k-labels-idx1-ubyte.gz\n",
            "5148/5148 [==============================] - 0s 0us/step\n",
            "Downloading data from https://storage.googleapis.com/tensorflow/tf-keras-datasets/t10k-images-idx3-ubyte.gz\n",
            "4422102/4422102 [==============================] - 0s 0us/step\n"
          ]
        }
      ],
      "source": [
        "import numpy as np\n",
        "import tensorflow as tf\n",
        "from tensorflow import keras\n",
        "\n",
        "\n",
        "fashion_mnist = keras.datasets.fashion_mnist\n",
        "(X_train_full, y_train_full), (X_test, y_test) = fashion_mnist.load_data()"
      ]
    },
    {
      "cell_type": "code",
      "execution_count": 2,
      "metadata": {
        "id": "fnDTUeidgRZz"
      },
      "outputs": [],
      "source": [
        "X_valid, X_train = X_train_full[:5000] / 255.0, X_train_full[5000:] / 255.0\n",
        "y_valid, y_train = y_train_full[:5000], y_train_full[5000:]"
      ]
    },
    {
      "cell_type": "code",
      "execution_count": 3,
      "metadata": {
        "id": "TJJgtVsoBZUR"
      },
      "outputs": [],
      "source": [
        "class_names = [\"T-shirt/top\", \"Trouser\", \"Pullover\", \"Dress\", \"Coat\", \"Sandal\", \"Shirt\", \"Sneaker\", \"Bag\", \"Ankle boot\"]"
      ]
    },
    {
      "cell_type": "markdown",
      "metadata": {
        "id": "pDhjUiWmBg6g"
      },
      "source": [
        "* Lets create a simple NN for a simple Classification :"
      ]
    },
    {
      "cell_type": "code",
      "execution_count": 4,
      "metadata": {
        "id": "P_YMVCh7Bag9"
      },
      "outputs": [],
      "source": [
        "from tensorflow import keras\n",
        "\n",
        "\n",
        "model = keras.models.Sequential()\n",
        "model.add(keras.layers.Flatten(input_shape=[28, 28]))\n",
        "model.add(keras.layers.Dense(300, activation=\"relu\"))\n",
        "model.add(keras.layers.Dense(100, activation=\"relu\"))\n",
        "model.add(keras.layers.Dense(10, activation=\"softmax\"))"
      ]
    },
    {
      "cell_type": "code",
      "execution_count": 5,
      "metadata": {
        "colab": {
          "base_uri": "https://localhost:8080/"
        },
        "id": "bOOwWPNuBepO",
        "outputId": "59392753-0a7c-4dd0-954d-de55936e2364"
      },
      "outputs": [
        {
          "name": "stdout",
          "output_type": "stream",
          "text": [
            "Model: \"sequential\"\n",
            "_________________________________________________________________\n",
            " Layer (type)                Output Shape              Param #   \n",
            "=================================================================\n",
            " flatten (Flatten)           (None, 784)               0         \n",
            "                                                                 \n",
            " dense (Dense)               (None, 300)               235500    \n",
            "                                                                 \n",
            " dense_1 (Dense)             (None, 100)               30100     \n",
            "                                                                 \n",
            " dense_2 (Dense)             (None, 10)                1010      \n",
            "                                                                 \n",
            "=================================================================\n",
            "Total params: 266610 (1.02 MB)\n",
            "Trainable params: 266610 (1.02 MB)\n",
            "Non-trainable params: 0 (0.00 Byte)\n",
            "_________________________________________________________________\n"
          ]
        }
      ],
      "source": [
        "model.summary()"
      ]
    },
    {
      "cell_type": "code",
      "execution_count": 6,
      "metadata": {
        "colab": {
          "base_uri": "https://localhost:8080/"
        },
        "id": "U4JFyWb2Bo5F",
        "outputId": "24e74eac-e945-4eaf-c2b6-5f3aa8773ecb"
      },
      "outputs": [
        {
          "data": {
            "text/plain": [
              "[<keras.src.layers.reshaping.flatten.Flatten at 0x7f5e7eddb820>,\n",
              " <keras.src.layers.core.dense.Dense at 0x7f5e7ee16590>,\n",
              " <keras.src.layers.core.dense.Dense at 0x7f5e7ee17220>,\n",
              " <keras.src.layers.core.dense.Dense at 0x7f5e7ee17310>]"
            ]
          },
          "execution_count": 6,
          "metadata": {},
          "output_type": "execute_result"
        }
      ],
      "source": [
        "model.layers"
      ]
    },
    {
      "cell_type": "code",
      "execution_count": 7,
      "metadata": {
        "id": "5vlVNSYmBrjf"
      },
      "outputs": [],
      "source": [
        "hidden_1 = model.layers[1]"
      ]
    },
    {
      "cell_type": "code",
      "execution_count": 8,
      "metadata": {
        "colab": {
          "base_uri": "https://localhost:8080/",
          "height": 36
        },
        "id": "tTMvFiWdBvHl",
        "outputId": "b89ea961-b48d-47b3-c70f-717319e098ad"
      },
      "outputs": [
        {
          "data": {
            "application/vnd.google.colaboratory.intrinsic+json": {
              "type": "string"
            },
            "text/plain": [
              "'dense'"
            ]
          },
          "execution_count": 8,
          "metadata": {},
          "output_type": "execute_result"
        }
      ],
      "source": [
        "hidden_1.name"
      ]
    },
    {
      "cell_type": "code",
      "execution_count": 9,
      "metadata": {
        "id": "tSt0ysk4Bwjf"
      },
      "outputs": [],
      "source": [
        "weights, biases = hidden_1.get_weights()"
      ]
    },
    {
      "cell_type": "code",
      "execution_count": 10,
      "metadata": {
        "colab": {
          "base_uri": "https://localhost:8080/"
        },
        "id": "wvjUPTRFB15R",
        "outputId": "7df5ef3c-75b6-4d11-fd6e-1d4ceb125d21"
      },
      "outputs": [
        {
          "data": {
            "text/plain": [
              "array([[ 0.03332268, -0.06717332, -0.01849941, ..., -0.02720114,\n",
              "        -0.00273731,  0.02245871],\n",
              "       [ 0.07281177, -0.00808894, -0.04431435, ..., -0.01142962,\n",
              "         0.02570157, -0.01082066],\n",
              "       [-0.00508663, -0.02084395, -0.01595578, ...,  0.01698745,\n",
              "         0.04584389, -0.00531974],\n",
              "       ...,\n",
              "       [-0.04133922, -0.05522975, -0.06046027, ...,  0.03584951,\n",
              "         0.0401158 ,  0.04860025],\n",
              "       [ 0.01355819,  0.07367799, -0.0178405 , ..., -0.05248886,\n",
              "         0.0585022 , -0.04992235],\n",
              "       [ 0.03556841, -0.07115582,  0.04966647, ...,  0.03436694,\n",
              "        -0.06291672,  0.04337711]], dtype=float32)"
            ]
          },
          "execution_count": 10,
          "metadata": {},
          "output_type": "execute_result"
        }
      ],
      "source": [
        "weights"
      ]
    },
    {
      "cell_type": "code",
      "execution_count": 11,
      "metadata": {
        "colab": {
          "base_uri": "https://localhost:8080/"
        },
        "id": "quEXu18mB2sG",
        "outputId": "2c9275f8-3fcb-4fe4-d70f-a5675c771244"
      },
      "outputs": [
        {
          "data": {
            "text/plain": [
              "array([0., 0., 0., 0., 0., 0., 0., 0., 0., 0., 0., 0., 0., 0., 0., 0., 0.,\n",
              "       0., 0., 0., 0., 0., 0., 0., 0., 0., 0., 0., 0., 0., 0., 0., 0., 0.,\n",
              "       0., 0., 0., 0., 0., 0., 0., 0., 0., 0., 0., 0., 0., 0., 0., 0., 0.,\n",
              "       0., 0., 0., 0., 0., 0., 0., 0., 0., 0., 0., 0., 0., 0., 0., 0., 0.,\n",
              "       0., 0., 0., 0., 0., 0., 0., 0., 0., 0., 0., 0., 0., 0., 0., 0., 0.,\n",
              "       0., 0., 0., 0., 0., 0., 0., 0., 0., 0., 0., 0., 0., 0., 0., 0., 0.,\n",
              "       0., 0., 0., 0., 0., 0., 0., 0., 0., 0., 0., 0., 0., 0., 0., 0., 0.,\n",
              "       0., 0., 0., 0., 0., 0., 0., 0., 0., 0., 0., 0., 0., 0., 0., 0., 0.,\n",
              "       0., 0., 0., 0., 0., 0., 0., 0., 0., 0., 0., 0., 0., 0., 0., 0., 0.,\n",
              "       0., 0., 0., 0., 0., 0., 0., 0., 0., 0., 0., 0., 0., 0., 0., 0., 0.,\n",
              "       0., 0., 0., 0., 0., 0., 0., 0., 0., 0., 0., 0., 0., 0., 0., 0., 0.,\n",
              "       0., 0., 0., 0., 0., 0., 0., 0., 0., 0., 0., 0., 0., 0., 0., 0., 0.,\n",
              "       0., 0., 0., 0., 0., 0., 0., 0., 0., 0., 0., 0., 0., 0., 0., 0., 0.,\n",
              "       0., 0., 0., 0., 0., 0., 0., 0., 0., 0., 0., 0., 0., 0., 0., 0., 0.,\n",
              "       0., 0., 0., 0., 0., 0., 0., 0., 0., 0., 0., 0., 0., 0., 0., 0., 0.,\n",
              "       0., 0., 0., 0., 0., 0., 0., 0., 0., 0., 0., 0., 0., 0., 0., 0., 0.,\n",
              "       0., 0., 0., 0., 0., 0., 0., 0., 0., 0., 0., 0., 0., 0., 0., 0., 0.,\n",
              "       0., 0., 0., 0., 0., 0., 0., 0., 0., 0., 0.], dtype=float32)"
            ]
          },
          "execution_count": 11,
          "metadata": {},
          "output_type": "execute_result"
        }
      ],
      "source": [
        "biases"
      ]
    },
    {
      "cell_type": "markdown",
      "metadata": {
        "id": "Mjcr4sDKB4cE"
      },
      "source": [
        "The randomness of the weights is normal (which is to break the similarity problem)"
      ]
    },
    {
      "cell_type": "markdown",
      "metadata": {
        "id": "9wWClII1Ca2v"
      },
      "source": [
        "and the biases being all 0 is completly fine as well"
      ]
    },
    {
      "cell_type": "markdown",
      "metadata": {
        "id": "Fs4hmSXhChSp"
      },
      "source": [
        "* now lets compile the model"
      ]
    },
    {
      "cell_type": "code",
      "execution_count": 12,
      "metadata": {
        "id": "peERDVrhB3PT"
      },
      "outputs": [],
      "source": [
        "model.compile(\n",
        "    loss = \"sparse_categorical_crossentropy\",\n",
        "    optimizer = \"sgd\",\n",
        "    metrics = [\"accuracy\"]\n",
        ")"
      ]
    },
    {
      "cell_type": "code",
      "execution_count": 13,
      "metadata": {
        "colab": {
          "base_uri": "https://localhost:8080/"
        },
        "id": "jzYiMDC4C4HQ",
        "outputId": "5e1afb93-d73a-47b2-b963-7e3fdfd34570"
      },
      "outputs": [
        {
          "name": "stdout",
          "output_type": "stream",
          "text": [
            "Epoch 1/30\n",
            "1719/1719 [==============================] - 9s 4ms/step - loss: 0.7119 - accuracy: 0.7640 - val_loss: 0.4909 - val_accuracy: 0.8346\n",
            "Epoch 2/30\n",
            "1719/1719 [==============================] - 8s 5ms/step - loss: 0.4846 - accuracy: 0.8309 - val_loss: 0.4294 - val_accuracy: 0.8546\n",
            "Epoch 3/30\n",
            "1719/1719 [==============================] - 8s 5ms/step - loss: 0.4406 - accuracy: 0.8450 - val_loss: 0.4135 - val_accuracy: 0.8550\n",
            "Epoch 4/30\n",
            "1719/1719 [==============================] - 7s 4ms/step - loss: 0.4146 - accuracy: 0.8543 - val_loss: 0.3973 - val_accuracy: 0.8640\n",
            "Epoch 5/30\n",
            "1719/1719 [==============================] - 8s 5ms/step - loss: 0.3947 - accuracy: 0.8603 - val_loss: 0.4002 - val_accuracy: 0.8612\n",
            "Epoch 6/30\n",
            "1719/1719 [==============================] - 8s 5ms/step - loss: 0.3784 - accuracy: 0.8668 - val_loss: 0.3709 - val_accuracy: 0.8720\n",
            "Epoch 7/30\n",
            "1719/1719 [==============================] - 7s 4ms/step - loss: 0.3658 - accuracy: 0.8702 - val_loss: 0.3582 - val_accuracy: 0.8756\n",
            "Epoch 8/30\n",
            "1719/1719 [==============================] - 8s 5ms/step - loss: 0.3546 - accuracy: 0.8747 - val_loss: 0.3508 - val_accuracy: 0.8776\n",
            "Epoch 9/30\n",
            "1719/1719 [==============================] - 7s 4ms/step - loss: 0.3430 - accuracy: 0.8783 - val_loss: 0.3437 - val_accuracy: 0.8756\n",
            "Epoch 10/30\n",
            "1719/1719 [==============================] - 8s 5ms/step - loss: 0.3334 - accuracy: 0.8813 - val_loss: 0.3509 - val_accuracy: 0.8730\n",
            "Epoch 11/30\n",
            "1719/1719 [==============================] - 8s 5ms/step - loss: 0.3248 - accuracy: 0.8839 - val_loss: 0.3323 - val_accuracy: 0.8828\n",
            "Epoch 12/30\n",
            "1719/1719 [==============================] - 7s 4ms/step - loss: 0.3167 - accuracy: 0.8866 - val_loss: 0.3446 - val_accuracy: 0.8764\n",
            "Epoch 13/30\n",
            "1719/1719 [==============================] - 8s 5ms/step - loss: 0.3102 - accuracy: 0.8886 - val_loss: 0.3498 - val_accuracy: 0.8716\n",
            "Epoch 14/30\n",
            "1719/1719 [==============================] - 8s 5ms/step - loss: 0.3030 - accuracy: 0.8905 - val_loss: 0.3295 - val_accuracy: 0.8838\n",
            "Epoch 15/30\n",
            "1719/1719 [==============================] - 7s 4ms/step - loss: 0.2951 - accuracy: 0.8931 - val_loss: 0.3112 - val_accuracy: 0.8892\n",
            "Epoch 16/30\n",
            "1719/1719 [==============================] - 8s 5ms/step - loss: 0.2891 - accuracy: 0.8955 - val_loss: 0.3184 - val_accuracy: 0.8864\n",
            "Epoch 17/30\n",
            "1719/1719 [==============================] - 7s 4ms/step - loss: 0.2836 - accuracy: 0.8979 - val_loss: 0.3101 - val_accuracy: 0.8890\n",
            "Epoch 18/30\n",
            "1719/1719 [==============================] - 8s 5ms/step - loss: 0.2778 - accuracy: 0.8989 - val_loss: 0.3066 - val_accuracy: 0.8932\n",
            "Epoch 19/30\n",
            "1719/1719 [==============================] - 8s 5ms/step - loss: 0.2738 - accuracy: 0.9010 - val_loss: 0.3376 - val_accuracy: 0.8810\n",
            "Epoch 20/30\n",
            "1719/1719 [==============================] - 7s 4ms/step - loss: 0.2670 - accuracy: 0.9036 - val_loss: 0.3056 - val_accuracy: 0.8898\n",
            "Epoch 21/30\n",
            "1719/1719 [==============================] - 8s 5ms/step - loss: 0.2629 - accuracy: 0.9059 - val_loss: 0.3114 - val_accuracy: 0.8860\n",
            "Epoch 22/30\n",
            "1719/1719 [==============================] - 8s 5ms/step - loss: 0.2582 - accuracy: 0.9069 - val_loss: 0.3037 - val_accuracy: 0.8906\n",
            "Epoch 23/30\n",
            "1719/1719 [==============================] - 7s 4ms/step - loss: 0.2536 - accuracy: 0.9087 - val_loss: 0.3043 - val_accuracy: 0.8944\n",
            "Epoch 24/30\n",
            "1719/1719 [==============================] - 8s 4ms/step - loss: 0.2485 - accuracy: 0.9112 - val_loss: 0.3082 - val_accuracy: 0.8872\n",
            "Epoch 25/30\n",
            "1719/1719 [==============================] - 7s 4ms/step - loss: 0.2451 - accuracy: 0.9124 - val_loss: 0.3125 - val_accuracy: 0.8916\n",
            "Epoch 26/30\n",
            "1719/1719 [==============================] - 9s 5ms/step - loss: 0.2408 - accuracy: 0.9134 - val_loss: 0.3033 - val_accuracy: 0.8890\n",
            "Epoch 27/30\n",
            "1719/1719 [==============================] - 8s 4ms/step - loss: 0.2352 - accuracy: 0.9149 - val_loss: 0.2949 - val_accuracy: 0.8954\n",
            "Epoch 28/30\n",
            "1719/1719 [==============================] - 7s 4ms/step - loss: 0.2322 - accuracy: 0.9160 - val_loss: 0.2936 - val_accuracy: 0.8974\n",
            "Epoch 29/30\n",
            "1719/1719 [==============================] - 7s 4ms/step - loss: 0.2280 - accuracy: 0.9181 - val_loss: 0.3055 - val_accuracy: 0.8894\n",
            "Epoch 30/30\n",
            "1719/1719 [==============================] - 8s 5ms/step - loss: 0.2246 - accuracy: 0.9191 - val_loss: 0.3001 - val_accuracy: 0.8952\n"
          ]
        }
      ],
      "source": [
        "history = model.fit(X_train, y_train, epochs = 30, validation_data = (X_valid, y_valid))"
      ]
    },
    {
      "cell_type": "markdown",
      "metadata": {
        "id": "hB8GiRUyIYvy"
      },
      "source": [
        "Let's now see the learning curve :"
      ]
    },
    {
      "cell_type": "code",
      "execution_count": 14,
      "metadata": {
        "colab": {
          "base_uri": "https://localhost:8080/",
          "height": 451
        },
        "id": "SkLlUpLoGloe",
        "outputId": "db0d35ff-3ce0-4b06-a968-06b3fec98639"
      },
      "outputs": [
        {
          "data": {
            "image/png": "[encoded data removed]",
            "text/plain": [
              "<Figure size 800x500 with 1 Axes>"
            ]
          },
          "metadata": {},
          "output_type": "display_data"
        }
      ],
      "source": [
        "import pandas as pd\n",
        "import matplotlib.pyplot as plt\n",
        "\n",
        "\n",
        "pd.DataFrame(history.history).plot(figsize= (8, 5))\n",
        "plt.grid(True)\n",
        "plt.gca().set_ylim(0, 1)\n",
        "plt.show()"
      ]
    },
    {
      "cell_type": "markdown",
      "metadata": {
        "id": "M8jXmEXNLOUf"
      },
      "source": [
        "well good enough"
      ]
    },
    {
      "cell_type": "markdown",
      "metadata": {
        "id": "pyzr-u39Li-X"
      },
      "source": [
        "If the model were to give bad results, our first apprroch would be to change the learning rate\n",
        "\n",
        "if it was not yet good, we would go to the network itself and change its hyper parametrs"
      ]
    },
    {
      "cell_type": "markdown",
      "metadata": {
        "id": "vHiiocwAL6We"
      },
      "source": [
        "* Now lets evaluate"
      ]
    },
    {
      "cell_type": "code",
      "execution_count": 15,
      "metadata": {
        "colab": {
          "base_uri": "https://localhost:8080/"
        },
        "id": "P3OD-Tc3IzR0",
        "outputId": "7b88da5a-3d81-4cf9-8cfa-1b626e3724fb"
      },
      "outputs": [
        {
          "name": "stdout",
          "output_type": "stream",
          "text": [
            "313/313 [==============================] - 1s 3ms/step - loss: 73.3491 - accuracy: 0.8379\n"
          ]
        },
        {
          "data": {
            "text/plain": [
              "[73.3490982055664, 0.8378999829292297]"
            ]
          },
          "execution_count": 15,
          "metadata": {},
          "output_type": "execute_result"
        }
      ],
      "source": [
        "model.evaluate(X_test, y_test)"
      ]
    },
    {
      "cell_type": "markdown",
      "metadata": {
        "id": "bLNOwzAZMCVI"
      },
      "source": [
        "This is not really a sign of overfitting\n",
        "\n",
        "Soooooooo, good enough"
      ]
    },
    {
      "cell_type": "markdown",
      "metadata": {
        "id": "6GS6pYAJMJHa"
      },
      "source": [
        "* Lets use it for the actual prediction's :"
      ]
    },
    {
      "cell_type": "code",
      "execution_count": 16,
      "metadata": {
        "colab": {
          "base_uri": "https://localhost:8080/"
        },
        "id": "-sAHXR4DL_o7",
        "outputId": "c7344aa3-f189-48f0-d6e3-240d52274066"
      },
      "outputs": [
        {
          "name": "stdout",
          "output_type": "stream",
          "text": [
            "1/1 [==============================] - 0s 99ms/step\n"
          ]
        }
      ],
      "source": [
        "X_new = X_test[:3]\n",
        "y_proba = model.predict(X_new)"
      ]
    },
    {
      "cell_type": "code",
      "execution_count": 17,
      "metadata": {
        "colab": {
          "base_uri": "https://localhost:8080/"
        },
        "id": "76vuu1f_MTue",
        "outputId": "3d0b6c7a-1f6a-4925-8caf-8417b95fd38f"
      },
      "outputs": [
        {
          "data": {
            "text/plain": [
              "array([[0., 0., 0., 0., 0., 0., 0., 0., 0., 1.],\n",
              "       [0., 0., 1., 0., 0., 0., 0., 0., 0., 0.],\n",
              "       [0., 1., 0., 0., 0., 0., 0., 0., 0., 0.]], dtype=float32)"
            ]
          },
          "execution_count": 17,
          "metadata": {},
          "output_type": "execute_result"
        }
      ],
      "source": [
        "y_proba.round(2)"
      ]
    },
    {
      "cell_type": "markdown",
      "metadata": {
        "id": "AU9iHYIcNGtz"
      },
      "source": [
        "* Now lets do the same but for a regression task :"
      ]
    },
    {
      "cell_type": "code",
      "execution_count": 41,
      "metadata": {
        "id": "uaDWCZKfMkMW"
      },
      "outputs": [],
      "source": [
        "from sklearn.datasets import fetch_california_housing\n",
        "from sklearn.model_selection import train_test_split\n",
        "from sklearn.preprocessing import StandardScaler\n",
        "\n",
        "\n",
        "housing = fetch_california_housing()"
      ]
    },
    {
      "cell_type": "code",
      "execution_count": 42,
      "metadata": {
        "id": "nuBgY3ihPANS"
      },
      "outputs": [],
      "source": [
        "X_train_full, X_test, y_train_full, y_test = train_test_split(\n",
        "    housing.data, housing.target\n",
        ")\n",
        "X_train, X_val, y_train, y_val = train_test_split(\n",
        "    X_train_full, y_train_full\n",
        ")"
      ]
    },
    {
      "cell_type": "code",
      "execution_count": 43,
      "metadata": {
        "id": "4psc5DhsPBcP"
      },
      "outputs": [],
      "source": [
        "scaler = StandardScaler()\n",
        "X_train = scaler.fit_transform(X_train)\n",
        "X_val = scaler.transform(X_val)\n",
        "X_test = scaler.transform(X_test)"
      ]
    },
    {
      "cell_type": "markdown",
      "metadata": {
        "id": "RmzlteNePp0q"
      },
      "source": [
        "This proccess is very simple and similar to the classification problem"
      ]
    },
    {
      "cell_type": "code",
      "execution_count": 44,
      "metadata": {
        "id": "79ShlXAWPnrc"
      },
      "outputs": [],
      "source": [
        "import tensorflow\n",
        "from tensorflow import keras\n",
        "\n",
        "model_1 = keras.models.Sequential([\n",
        "    keras.layers.Dense(30, activation=\"relu\", input_shape=X_train.shape[1:]),\n",
        "    keras.layers.Dense(1)\n",
        "])\n",
        "\n",
        "model_1.compile(\n",
        "    loss=\"mean_squared_error\",\n",
        "    optimizer=\"sgd\",\n",
        "    metrics = [\"accuracy\"]\n",
        ")"
      ]
    },
    {
      "cell_type": "code",
      "execution_count": 45,
      "metadata": {
        "colab": {
          "base_uri": "https://localhost:8080/"
        },
        "id": "0u7UuE5LQayy",
        "outputId": "4765ac4d-b45d-4a5a-aa99-24ad59a0f305"
      },
      "outputs": [
        {
          "name": "stdout",
          "output_type": "stream",
          "text": [
            "Epoch 1/20\n",
            "363/363 [==============================] - 1s 2ms/step - loss: 0.8184 - accuracy: 0.0028 - val_loss: 0.6082 - val_accuracy: 0.0028\n",
            "Epoch 2/20\n",
            "363/363 [==============================] - 0s 1ms/step - loss: 0.6309 - accuracy: 0.0028 - val_loss: 0.4885 - val_accuracy: 0.0028\n",
            "Epoch 3/20\n",
            "363/363 [==============================] - 1s 2ms/step - loss: 0.4692 - accuracy: 0.0028 - val_loss: 0.4598 - val_accuracy: 0.0028\n",
            "Epoch 4/20\n",
            "363/363 [==============================] - 1s 1ms/step - loss: 0.4527 - accuracy: 0.0028 - val_loss: 0.4474 - val_accuracy: 0.0028\n",
            "Epoch 5/20\n",
            "363/363 [==============================] - 0s 1ms/step - loss: 0.4433 - accuracy: 0.0028 - val_loss: 0.4386 - val_accuracy: 0.0028\n",
            "Epoch 6/20\n",
            "363/363 [==============================] - 0s 1ms/step - loss: 0.4360 - accuracy: 0.0028 - val_loss: 0.4344 - val_accuracy: 0.0028\n",
            "Epoch 7/20\n",
            "363/363 [==============================] - 0s 1ms/step - loss: 0.4300 - accuracy: 0.0028 - val_loss: 0.4233 - val_accuracy: 0.0028\n",
            "Epoch 8/20\n",
            "363/363 [==============================] - 0s 1ms/step - loss: 0.4266 - accuracy: 0.0028 - val_loss: 0.4294 - val_accuracy: 0.0028\n",
            "Epoch 9/20\n",
            "363/363 [==============================] - 0s 1ms/step - loss: 0.4194 - accuracy: 0.0028 - val_loss: 0.4223 - val_accuracy: 0.0028\n",
            "Epoch 10/20\n",
            "363/363 [==============================] - 0s 1ms/step - loss: 0.4133 - accuracy: 0.0028 - val_loss: 0.4059 - val_accuracy: 0.0028\n",
            "Epoch 11/20\n",
            "363/363 [==============================] - 0s 1ms/step - loss: 0.4099 - accuracy: 0.0028 - val_loss: 0.4026 - val_accuracy: 0.0028\n",
            "Epoch 12/20\n",
            "363/363 [==============================] - 0s 1ms/step - loss: 0.4062 - accuracy: 0.0028 - val_loss: 0.4029 - val_accuracy: 0.0028\n",
            "Epoch 13/20\n",
            "363/363 [==============================] - 0s 1ms/step - loss: 0.4032 - accuracy: 0.0028 - val_loss: 0.4054 - val_accuracy: 0.0028\n",
            "Epoch 14/20\n",
            "363/363 [==============================] - 0s 1ms/step - loss: 0.3996 - accuracy: 0.0028 - val_loss: 0.3950 - val_accuracy: 0.0028\n",
            "Epoch 15/20\n",
            "363/363 [==============================] - 0s 1ms/step - loss: 0.3962 - accuracy: 0.0028 - val_loss: 0.3960 - val_accuracy: 0.0028\n",
            "Epoch 16/20\n",
            "363/363 [==============================] - 0s 1ms/step - loss: 0.3912 - accuracy: 0.0028 - val_loss: 0.3905 - val_accuracy: 0.0028\n",
            "Epoch 17/20\n",
            "363/363 [==============================] - 0s 1ms/step - loss: 0.3902 - accuracy: 0.0028 - val_loss: 0.3870 - val_accuracy: 0.0028\n",
            "Epoch 18/20\n",
            "363/363 [==============================] - 1s 2ms/step - loss: 0.3866 - accuracy: 0.0028 - val_loss: 0.3857 - val_accuracy: 0.0028\n",
            "Epoch 19/20\n",
            "363/363 [==============================] - 1s 2ms/step - loss: 0.3852 - accuracy: 0.0028 - val_loss: 0.3898 - val_accuracy: 0.0028\n",
            "Epoch 20/20\n",
            "363/363 [==============================] - 0s 1ms/step - loss: 0.3844 - accuracy: 0.0028 - val_loss: 0.3817 - val_accuracy: 0.0028\n"
          ]
        }
      ],
      "source": [
        "history = model_1.fit(\n",
        "    X_train, y_train,\n",
        "    epochs = 20,\n",
        "    validation_data = (X_val, y_val)\n",
        ")"
      ]
    },
    {
      "cell_type": "code",
      "execution_count": 46,
      "metadata": {
        "colab": {
          "base_uri": "https://localhost:8080/"
        },
        "id": "-Hg-3aSaQqlv",
        "outputId": "41e84dee-ce38-4183-fd94-61b2b48e7e7f"
      },
      "outputs": [
        {
          "name": "stdout",
          "output_type": "stream",
          "text": [
            "162/162 [==============================] - 0s 678us/step - loss: 0.4014 - accuracy: 0.0035\n"
          ]
        },
        {
          "data": {
            "text/plain": [
              "[0.4014338552951813, 0.003488372080028057]"
            ]
          },
          "execution_count": 46,
          "metadata": {},
          "output_type": "execute_result"
        }
      ],
      "source": [
        "model_1.evaluate(X_test, y_test)"
      ]
    },
    {
      "cell_type": "markdown",
      "metadata": {
        "id": "i5_Wxen-RuGX"
      },
      "source": [
        "Not so great so we will need a more suffisticated model"
      ]
    },
    {
      "cell_type": "markdown",
      "metadata": {
        "id": "Ea3z5fDr4sVI"
      },
      "source": [
        "We will use a non-sequentioal model for this part (more especificly a wide-deep nuerral network)"
      ]
    },
    {
      "cell_type": "markdown",
      "metadata": {
        "id": "uQiNRc4z7hO4"
      },
      "source": [
        "# Functional API"
      ]
    },
    {
      "cell_type": "code",
      "execution_count": 47,
      "metadata": {
        "id": "1TFeiC8DRAqw"
      },
      "outputs": [],
      "source": [
        "input_ = keras.layers.Input(shape=X_train.shape[1:])\n",
        "hidden_1 = keras.layers.Dense(30, activation=\"relu\")(input_)\n",
        "hidden_2 = keras.layers.Dense(30, activation=\"relu\")(hidden_1)\n",
        "concat = keras.layers.Concatenate()([input_, hidden_2])\n",
        "output = keras.layers.Dense(1)(concat)\n",
        "model = keras.Model(inputs= [input_], outputs= [output])"
      ]
    },
    {
      "cell_type": "markdown",
      "metadata": {
        "id": "Xu7k8hBF8BgI"
      },
      "source": [
        "The compilation's are the same as before"
      ]
    },
    {
      "cell_type": "markdown",
      "metadata": {
        "id": "S_WolETF8FBl"
      },
      "source": [
        "But what if we need the input itself to 2 portions ?"
      ]
    },
    {
      "cell_type": "code",
      "execution_count": 48,
      "metadata": {
        "id": "T-scmVAm79os"
      },
      "outputs": [],
      "source": [
        "input_A = keras.layers.Input(shape=[5], name=\"wide_input\")\n",
        "input_B = keras.layers.Input(shape=[6], name=\"deep_input\")\n",
        "hidden_1 = keras.layers.Dense(30, activation=\"relu\")(input_A)\n",
        "hidden_2 = keras.layers.Dense(30, activation=\"relu\")(hidden_1)\n",
        "concat = keras.layers.Concatenate()([input_B, hidden_2])\n",
        "output = keras.layers.Dense(1)(concat)\n",
        "model = keras.Model(inputs=[input_A, input_B], outputs=[output])"
      ]
    },
    {
      "cell_type": "code",
      "execution_count": 49,
      "metadata": {
        "id": "UST4bMUD9jeo"
      },
      "outputs": [],
      "source": [
        "from tensorflow.keras.optimizers import SGD\n",
        "\n",
        "model.compile(\n",
        "    loss=\"mse\",\n",
        "    optimizer=SGD(learning_rate=1e-3),\n",
        "    metrics = [\"accuracy\"]\n",
        ")\n"
      ]
    },
    {
      "cell_type": "code",
      "execution_count": 50,
      "metadata": {
        "id": "axef0tnr98g-"
      },
      "outputs": [],
      "source": [
        "X_train_A, X_train_B = X_train[:, :5], X_train[:, 2:]\n",
        "X_val_A, X_val_B = X_val[:, :5], X_val[:, 2:]\n",
        "X_test_A, X_test_B = X_test[:, :5], X_test[:, 2:]\n",
        "X_new_A, X_new_B = X_train[:3], X_train[:3]"
      ]
    },
    {
      "cell_type": "code",
      "execution_count": 51,
      "metadata": {
        "colab": {
          "base_uri": "https://localhost:8080/"
        },
        "id": "3hjP8x0I-lnz",
        "outputId": "23eff812-e5d8-4091-c246-0ee357e5403d"
      },
      "outputs": [
        {
          "name": "stdout",
          "output_type": "stream",
          "text": [
            "Epoch 1/20\n"
          ]
        },
        {
          "name": "stdout",
          "output_type": "stream",
          "text": [
            "363/363 [==============================] - 1s 2ms/step - loss: 2.1017 - accuracy: 0.0020 - val_loss: 0.8984 - val_accuracy: 0.0028\n",
            "Epoch 2/20\n",
            "363/363 [==============================] - 1s 2ms/step - loss: 0.8264 - accuracy: 0.0028 - val_loss: 0.7706 - val_accuracy: 0.0028\n",
            "Epoch 3/20\n",
            "363/363 [==============================] - 0s 1ms/step - loss: 0.7375 - accuracy: 0.0028 - val_loss: 0.7122 - val_accuracy: 0.0028\n",
            "Epoch 4/20\n",
            "363/363 [==============================] - 0s 1ms/step - loss: 0.6891 - accuracy: 0.0028 - val_loss: 0.6734 - val_accuracy: 0.0028\n",
            "Epoch 5/20\n",
            "363/363 [==============================] - 0s 1ms/step - loss: 0.6537 - accuracy: 0.0028 - val_loss: 0.6372 - val_accuracy: 0.0028\n",
            "Epoch 6/20\n",
            "363/363 [==============================] - 0s 1ms/step - loss: 0.6255 - accuracy: 0.0028 - val_loss: 0.6098 - val_accuracy: 0.0028\n",
            "Epoch 7/20\n",
            "363/363 [==============================] - 0s 1ms/step - loss: 0.6035 - accuracy: 0.0028 - val_loss: 0.5888 - val_accuracy: 0.0028\n",
            "Epoch 8/20\n",
            "363/363 [==============================] - 0s 1ms/step - loss: 0.5854 - accuracy: 0.0028 - val_loss: 0.5728 - val_accuracy: 0.0028\n",
            "Epoch 9/20\n",
            "363/363 [==============================] - 1s 2ms/step - loss: 0.5699 - accuracy: 0.0028 - val_loss: 0.5576 - val_accuracy: 0.0028\n",
            "Epoch 10/20\n",
            "363/363 [==============================] - 0s 1ms/step - loss: 0.5578 - accuracy: 0.0028 - val_loss: 0.5458 - val_accuracy: 0.0028\n",
            "Epoch 11/20\n",
            "363/363 [==============================] - 0s 1ms/step - loss: 0.5473 - accuracy: 0.0028 - val_loss: 0.5363 - val_accuracy: 0.0028\n",
            "Epoch 12/20\n",
            "363/363 [==============================] - 0s 1ms/step - loss: 0.5385 - accuracy: 0.0028 - val_loss: 0.5291 - val_accuracy: 0.0028\n",
            "Epoch 13/20\n",
            "363/363 [==============================] - 0s 1ms/step - loss: 0.5312 - accuracy: 0.0028 - val_loss: 0.5215 - val_accuracy: 0.0028\n",
            "Epoch 14/20\n",
            "363/363 [==============================] - 0s 1ms/step - loss: 0.5249 - accuracy: 0.0028 - val_loss: 0.5160 - val_accuracy: 0.0028\n",
            "Epoch 15/20\n",
            "363/363 [==============================] - 1s 1ms/step - loss: 0.5193 - accuracy: 0.0028 - val_loss: 0.5138 - val_accuracy: 0.0028\n",
            "Epoch 16/20\n",
            "363/363 [==============================] - 0s 1ms/step - loss: 0.5143 - accuracy: 0.0028 - val_loss: 0.5064 - val_accuracy: 0.0028\n",
            "Epoch 17/20\n",
            "363/363 [==============================] - 0s 1ms/step - loss: 0.5102 - accuracy: 0.0028 - val_loss: 0.5037 - val_accuracy: 0.0028\n",
            "Epoch 18/20\n",
            "363/363 [==============================] - 0s 1ms/step - loss: 0.5065 - accuracy: 0.0028 - val_loss: 0.4998 - val_accuracy: 0.0028\n",
            "Epoch 19/20\n",
            "363/363 [==============================] - 0s 1ms/step - loss: 0.5024 - accuracy: 0.0028 - val_loss: 0.4962 - val_accuracy: 0.0028\n",
            "Epoch 20/20\n",
            "363/363 [==============================] - 0s 1ms/step - loss: 0.4996 - accuracy: 0.0028 - val_loss: 0.4928 - val_accuracy: 0.0028\n"
          ]
        }
      ],
      "source": [
        "history = model.fit(\n",
        "    (X_train_A, X_train_B),\n",
        "    y_train,\n",
        "    epochs=20,\n",
        "    validation_data=((X_val_A, X_val_B), y_val)\n",
        "    )"
      ]
    },
    {
      "cell_type": "code",
      "execution_count": 52,
      "metadata": {
        "colab": {
          "base_uri": "https://localhost:8080/"
        },
        "id": "ClEy5Qc_-3jd",
        "outputId": "f15aaf39-7a0d-4884-b00a-f3be5c49bf33"
      },
      "outputs": [
        {
          "name": "stdout",
          "output_type": "stream",
          "text": [
            "  1/162 [..............................] - ETA: 3s - loss: 0.4268 - accuracy: 0.0000e+00"
          ]
        },
        {
          "name": "stdout",
          "output_type": "stream",
          "text": [
            "162/162 [==============================] - 0s 746us/step - loss: 0.5231 - accuracy: 0.0035\n"
          ]
        }
      ],
      "source": [
        "mse_test = model.evaluate((X_test_A, X_test_B), y_test)"
      ]
    },
    {
      "cell_type": "code",
      "execution_count": 53,
      "metadata": {
        "colab": {
          "base_uri": "https://localhost:8080/"
        },
        "id": "SAgyggoF_NMg",
        "outputId": "f2784f6e-5282-434c-f7aa-d07ad4085103"
      },
      "outputs": [
        {
          "data": {
            "text/plain": [
              "[0.523102343082428, 0.003488372080028057]"
            ]
          },
          "execution_count": 53,
          "metadata": {},
          "output_type": "execute_result"
        }
      ],
      "source": [
        "mse_test"
      ]
    },
    {
      "cell_type": "markdown",
      "metadata": {
        "id": "KEG8cCatJGiO"
      },
      "source": [
        "We could also benefit from an auxilary output\n",
        "\n",
        "one output for each task within a singular network (face detection / whether we glasses are on)"
      ]
    },
    {
      "cell_type": "code",
      "execution_count": 54,
      "metadata": {
        "id": "21-Pn4ueJB6o"
      },
      "outputs": [],
      "source": [
        "input_A = keras.layers.Input(shape=[5], name=\"wide_input\")\n",
        "input_B = keras.layers.Input(shape=[6], name=\"deep_input\")\n",
        "hidden_1 = keras.layers.Dense(30, activation=\"relu\")(input_B)\n",
        "hidden_2 = keras.layers.Dense(30, activation=\"relu\")(hidden_1)\n",
        "concat = keras.layers.Concatenate()([input_A, hidden_2])\n",
        "output = keras.layers.Dense(1, name=\"main_output\")(concat)\n",
        "aux_output = keras.layers.Dense(1, name=\"aux_output\")(hidden_2)\n",
        "model = keras.Model(inputs=[input_A, input_B], outputs=[output, aux_output])"
      ]
    },
    {
      "cell_type": "markdown",
      "metadata": {
        "id": "tqtB5-96LGng"
      },
      "source": [
        "Take into account we need 2 loss functions\n",
        "\n",
        "and weight to each output"
      ]
    },
    {
      "cell_type": "code",
      "execution_count": 55,
      "metadata": {
        "id": "0We_1HzUKqC5"
      },
      "outputs": [],
      "source": [
        "model.compile(\n",
        "    loss=[\"mse\", \"mse\"],\n",
        "    loss_weights=[0.9, 0.1],\n",
        "    optimizer=\"sgd\",\n",
        "    metrics = [\"accuracy\"]\n",
        ")"
      ]
    },
    {
      "cell_type": "code",
      "execution_count": 56,
      "metadata": {
        "colab": {
          "base_uri": "https://localhost:8080/"
        },
        "id": "jwNO3jOALYph",
        "outputId": "86b6ed68-db23-4675-af9d-af58a5c50791"
      },
      "outputs": [
        {
          "name": "stdout",
          "output_type": "stream",
          "text": [
            "Epoch 1/20\n"
          ]
        },
        {
          "name": "stdout",
          "output_type": "stream",
          "text": [
            "363/363 [==============================] - 1s 2ms/step - loss: 1.1819 - main_output_loss: 1.0705 - aux_output_loss: 2.1849 - main_output_accuracy: 0.0025 - aux_output_accuracy: 0.0023 - val_loss: 0.6019 - val_main_output_loss: 0.5279 - val_aux_output_loss: 1.2670 - val_main_output_accuracy: 0.0028 - val_aux_output_accuracy: 0.0028\n",
            "Epoch 2/20\n",
            "363/363 [==============================] - 0s 1ms/step - loss: 0.6285 - main_output_loss: 0.5689 - aux_output_loss: 1.1656 - main_output_accuracy: 0.0028 - aux_output_accuracy: 0.0028 - val_loss: 0.5405 - val_main_output_loss: 0.4820 - val_aux_output_loss: 1.0677 - val_main_output_accuracy: 0.0028 - val_aux_output_accuracy: 0.0028\n",
            "Epoch 3/20\n",
            "363/363 [==============================] - 0s 1ms/step - loss: 0.5269 - main_output_loss: 0.4745 - aux_output_loss: 0.9984 - main_output_accuracy: 0.0026 - aux_output_accuracy: 0.0028 - val_loss: 0.5096 - val_main_output_loss: 0.4623 - val_aux_output_loss: 0.9347 - val_main_output_accuracy: 0.0028 - val_aux_output_accuracy: 0.0028\n",
            "Epoch 4/20\n",
            "363/363 [==============================] - 0s 1ms/step - loss: 0.4921 - main_output_loss: 0.4492 - aux_output_loss: 0.8782 - main_output_accuracy: 0.0027 - aux_output_accuracy: 0.0028 - val_loss: 0.5055 - val_main_output_loss: 0.4701 - val_aux_output_loss: 0.8234 - val_main_output_accuracy: 0.0028 - val_aux_output_accuracy: 0.0028\n",
            "Epoch 5/20\n",
            "363/363 [==============================] - 0s 1ms/step - loss: 0.4735 - main_output_loss: 0.4382 - aux_output_loss: 0.7906 - main_output_accuracy: 0.0025 - aux_output_accuracy: 0.0028 - val_loss: 0.4675 - val_main_output_loss: 0.4349 - val_aux_output_loss: 0.7609 - val_main_output_accuracy: 0.0028 - val_aux_output_accuracy: 0.0028\n",
            "Epoch 6/20\n",
            "363/363 [==============================] - 0s 1ms/step - loss: 0.4632 - main_output_loss: 0.4330 - aux_output_loss: 0.7352 - main_output_accuracy: 0.0027 - aux_output_accuracy: 0.0028 - val_loss: 0.4547 - val_main_output_loss: 0.4269 - val_aux_output_loss: 0.7056 - val_main_output_accuracy: 0.0028 - val_aux_output_accuracy: 0.0028\n",
            "Epoch 7/20\n",
            "363/363 [==============================] - 0s 1ms/step - loss: 0.4491 - main_output_loss: 0.4222 - aux_output_loss: 0.6913 - main_output_accuracy: 0.0027 - aux_output_accuracy: 0.0028 - val_loss: 0.4494 - val_main_output_loss: 0.4247 - val_aux_output_loss: 0.6718 - val_main_output_accuracy: 0.0028 - val_aux_output_accuracy: 0.0028\n",
            "Epoch 8/20\n",
            "363/363 [==============================] - 0s 1ms/step - loss: 0.4391 - main_output_loss: 0.4147 - aux_output_loss: 0.6584 - main_output_accuracy: 0.0027 - aux_output_accuracy: 0.0028 - val_loss: 0.4444 - val_main_output_loss: 0.4227 - val_aux_output_loss: 0.6392 - val_main_output_accuracy: 0.0028 - val_aux_output_accuracy: 0.0028\n",
            "Epoch 9/20\n",
            "363/363 [==============================] - 1s 2ms/step - loss: 0.4323 - main_output_loss: 0.4098 - aux_output_loss: 0.6342 - main_output_accuracy: 0.0027 - aux_output_accuracy: 0.0028 - val_loss: 0.4334 - val_main_output_loss: 0.4127 - val_aux_output_loss: 0.6192 - val_main_output_accuracy: 0.0028 - val_aux_output_accuracy: 0.0028\n",
            "Epoch 10/20\n",
            "363/363 [==============================] - 0s 1ms/step - loss: 0.4251 - main_output_loss: 0.4043 - aux_output_loss: 0.6124 - main_output_accuracy: 0.0027 - aux_output_accuracy: 0.0028 - val_loss: 0.4251 - val_main_output_loss: 0.4058 - val_aux_output_loss: 0.5985 - val_main_output_accuracy: 0.0028 - val_aux_output_accuracy: 0.0028\n",
            "Epoch 11/20\n",
            "363/363 [==============================] - 0s 1ms/step - loss: 0.4164 - main_output_loss: 0.3966 - aux_output_loss: 0.5945 - main_output_accuracy: 0.0028 - aux_output_accuracy: 0.0028 - val_loss: 0.4151 - val_main_output_loss: 0.3964 - val_aux_output_loss: 0.5842 - val_main_output_accuracy: 0.0028 - val_aux_output_accuracy: 0.0028\n",
            "Epoch 12/20\n",
            "363/363 [==============================] - 0s 1ms/step - loss: 0.4115 - main_output_loss: 0.3924 - aux_output_loss: 0.5831 - main_output_accuracy: 0.0027 - aux_output_accuracy: 0.0028 - val_loss: 0.4209 - val_main_output_loss: 0.4031 - val_aux_output_loss: 0.5815 - val_main_output_accuracy: 0.0028 - val_aux_output_accuracy: 0.0028\n",
            "Epoch 13/20\n",
            "363/363 [==============================] - 1s 2ms/step - loss: 0.4082 - main_output_loss: 0.3905 - aux_output_loss: 0.5676 - main_output_accuracy: 0.0027 - aux_output_accuracy: 0.0028 - val_loss: 0.4455 - val_main_output_loss: 0.4274 - val_aux_output_loss: 0.6080 - val_main_output_accuracy: 0.0028 - val_aux_output_accuracy: 0.0028\n",
            "Epoch 14/20\n",
            "363/363 [==============================] - 0s 1ms/step - loss: 0.4003 - main_output_loss: 0.3828 - aux_output_loss: 0.5584 - main_output_accuracy: 0.0028 - aux_output_accuracy: 0.0028 - val_loss: 0.3990 - val_main_output_loss: 0.3828 - val_aux_output_loss: 0.5456 - val_main_output_accuracy: 0.0028 - val_aux_output_accuracy: 0.0028\n",
            "Epoch 15/20\n",
            "363/363 [==============================] - 0s 1ms/step - loss: 0.3947 - main_output_loss: 0.3778 - aux_output_loss: 0.5467 - main_output_accuracy: 0.0028 - aux_output_accuracy: 0.0028 - val_loss: 0.4009 - val_main_output_loss: 0.3857 - val_aux_output_loss: 0.5376 - val_main_output_accuracy: 0.0028 - val_aux_output_accuracy: 0.0028\n",
            "Epoch 16/20\n",
            "363/363 [==============================] - 1s 2ms/step - loss: 0.3903 - main_output_loss: 0.3741 - aux_output_loss: 0.5367 - main_output_accuracy: 0.0028 - aux_output_accuracy: 0.0028 - val_loss: 0.3884 - val_main_output_loss: 0.3733 - val_aux_output_loss: 0.5247 - val_main_output_accuracy: 0.0028 - val_aux_output_accuracy: 0.0028\n",
            "Epoch 17/20\n",
            "363/363 [==============================] - 0s 1ms/step - loss: 0.3843 - main_output_loss: 0.3686 - aux_output_loss: 0.5257 - main_output_accuracy: 0.0028 - aux_output_accuracy: 0.0028 - val_loss: 0.4123 - val_main_output_loss: 0.3975 - val_aux_output_loss: 0.5457 - val_main_output_accuracy: 0.0028 - val_aux_output_accuracy: 0.0028\n",
            "Epoch 18/20\n",
            "363/363 [==============================] - 0s 1ms/step - loss: 0.3804 - main_output_loss: 0.3652 - aux_output_loss: 0.5174 - main_output_accuracy: 0.0028 - aux_output_accuracy: 0.0028 - val_loss: 0.3822 - val_main_output_loss: 0.3679 - val_aux_output_loss: 0.5110 - val_main_output_accuracy: 0.0028 - val_aux_output_accuracy: 0.0028\n",
            "Epoch 19/20\n",
            "363/363 [==============================] - 0s 1ms/step - loss: 0.3816 - main_output_loss: 0.3674 - aux_output_loss: 0.5092 - main_output_accuracy: 0.0028 - aux_output_accuracy: 0.0028 - val_loss: 0.3852 - val_main_output_loss: 0.3709 - val_aux_output_loss: 0.5133 - val_main_output_accuracy: 0.0028 - val_aux_output_accuracy: 0.0028\n",
            "Epoch 20/20\n",
            "363/363 [==============================] - 0s 1ms/step - loss: 0.3736 - main_output_loss: 0.3595 - aux_output_loss: 0.5012 - main_output_accuracy: 0.0028 - aux_output_accuracy: 0.0028 - val_loss: 0.3722 - val_main_output_loss: 0.3595 - val_aux_output_loss: 0.4865 - val_main_output_accuracy: 0.0028 - val_aux_output_accuracy: 0.0028\n"
          ]
        }
      ],
      "source": [
        "history = model.fit(\n",
        "    [X_train_A, X_train_B],\n",
        "    [y_train, y_train],\n",
        "    epochs=20,\n",
        "    validation_data=([X_val_A, X_val_B], [y_val, y_val])\n",
        ")\n"
      ]
    },
    {
      "cell_type": "code",
      "execution_count": 57,
      "metadata": {
        "colab": {
          "base_uri": "https://localhost:8080/"
        },
        "id": "NWs2TJ01Lxt3",
        "outputId": "165a744e-1cd5-4a13-ae5e-388f30992ef7"
      },
      "outputs": [
        {
          "name": "stdout",
          "output_type": "stream",
          "text": [
            "162/162 [==============================] - 0s 1ms/step - loss: 0.3794 - main_output_loss: 0.3673 - aux_output_loss: 0.4880 - main_output_accuracy: 0.0035 - aux_output_accuracy: 0.0035 \n",
            "Total loss: 0.3793841600418091\n",
            "Main loss: 0.3673209249973297\n",
            "Auxiliary loss: 0.4879536032676697\n"
          ]
        }
      ],
      "source": [
        "eval_results = model.evaluate([X_test_A, X_test_B], [y_test, y_test])\n",
        "\n",
        "total_loss = eval_results[0]\n",
        "main_loss = eval_results[1]\n",
        "aux_loss = eval_results[2]\n",
        "\n",
        "print(\"Total loss:\", total_loss)\n",
        "print(\"Main loss:\", main_loss)\n",
        "print(\"Auxiliary loss:\", aux_loss)"
      ]
    },
    {
      "cell_type": "markdown",
      "metadata": {
        "id": "-svtcyCeMr54"
      },
      "source": [
        "The fact that this is not acceptable does not change the fact that the functional API is a powerfull model"
      ]
    },
    {
      "cell_type": "markdown",
      "metadata": {
        "id": "buxGz9V5Mz1l"
      },
      "source": [
        "# Dynamic API"
      ]
    },
    {
      "cell_type": "code",
      "execution_count": 58,
      "metadata": {
        "id": "-4wMRzKlMXn-"
      },
      "outputs": [],
      "source": [
        "class WideAndDeepModel(keras.Model):\n",
        "  def __init__(self, units=30, activation=\"relu\", **kwargs):\n",
        "    super().__init__(**kwargs)\n",
        "    self.hidden_1 = keras.layers.Dense(units, activation=activation)\n",
        "    self.hidden_2 = keras.layers.Dense(units, activation=activation)\n",
        "    self.main_output = keras.layers.Dense(1)\n",
        "    self.aux_output = keras.layers.Dense(1)\n",
        "\n",
        "  def call(self, inputs):\n",
        "    input_A, input_B = inputs\n",
        "    hidden_1 = self.hidden_1(input_B)\n",
        "    hidden_2 = self.hidden_2(hidden_1)\n",
        "    concat = keras.layers.Concatenate([input_A, input_B])\n",
        "    main_output = self.main_output(concat)\n",
        "    aux_output = self.aux_output(hidden_2)\n",
        "    return main_output, aux_output"
      ]
    },
    {
      "cell_type": "code",
      "execution_count": 59,
      "metadata": {
        "id": "-T0E_Gp_OsVl"
      },
      "outputs": [],
      "source": [
        "model = WideAndDeepModel()"
      ]
    },
    {
      "cell_type": "markdown",
      "metadata": {
        "id": "qy84ELU7Oxs-"
      },
      "source": [
        "and so on"
      ]
    },
    {
      "cell_type": "markdown",
      "metadata": {
        "id": "YUQAZwNFPIR3"
      },
      "source": [
        "* save and load"
      ]
    },
    {
      "cell_type": "code",
      "execution_count": 60,
      "metadata": {
        "colab": {
          "base_uri": "https://localhost:8080/",
          "height": 373
        },
        "id": "PLlQTR_oOvVZ",
        "outputId": "00e9b65b-ef1e-4808-d00d-785b4058c0a4"
      },
      "outputs": [
        {
          "name": "stderr",
          "output_type": "stream",
          "text": [
            "c:\\Users\\Acer\\AppData\\Local\\Programs\\Python\\Python310\\lib\\site-packages\\keras\\src\\engine\\training.py:3079: UserWarning: You are saving your model as an HDF5 file via `model.save()`. This file format is considered legacy. We recommend using instead the native Keras format, e.g. `model.save('my_model.keras')`.\n",
            "  saving_api.save_model(\n"
          ]
        }
      ],
      "source": [
        "model_1.save(\"my_keras_model.h5\")"
      ]
    },
    {
      "cell_type": "markdown",
      "metadata": {},
      "source": [
        "notice that this can only be done with either the sequential or functional API models\n",
        "\n",
        "\n",
        "NOT FOR AND OTHER"
      ]
    },
    {
      "cell_type": "markdown",
      "metadata": {},
      "source": [
        "and to load :"
      ]
    },
    {
      "cell_type": "code",
      "execution_count": 61,
      "metadata": {
        "id": "uShdKU1qPNnx"
      },
      "outputs": [],
      "source": [
        "model = keras.models.load_model(r\"D:\\Sharif University of Tech\\Data\\Hands-on DL\\Season 1\\Model\\my_keras_model.h5\")"
      ]
    },
    {
      "cell_type": "markdown",
      "metadata": {},
      "source": [
        "But what if we need to save data models half way through ?\n",
        "\n",
        "While we are at it, why not every where we want ?"
      ]
    },
    {
      "cell_type": "code",
      "execution_count": 62,
      "metadata": {},
      "outputs": [
        {
          "name": "stdout",
          "output_type": "stream",
          "text": [
            "Epoch 1/10\n",
            "363/363 [==============================] - 0s 825us/step - loss: 0.3821 - accuracy: 0.0028\n",
            "Epoch 2/10\n",
            "154/363 [===========>..................] - ETA: 0s - loss: 0.3706 - accuracy: 0.0026"
          ]
        },
        {
          "name": "stderr",
          "output_type": "stream",
          "text": [
            "c:\\Users\\Acer\\AppData\\Local\\Programs\\Python\\Python310\\lib\\site-packages\\keras\\src\\engine\\training.py:3079: UserWarning: You are saving your model as an HDF5 file via `model.save()`. This file format is considered legacy. We recommend using instead the native Keras format, e.g. `model.save('my_model.keras')`.\n",
            "  saving_api.save_model(\n"
          ]
        },
        {
          "name": "stdout",
          "output_type": "stream",
          "text": [
            "363/363 [==============================] - 0s 1ms/step - loss: 0.3790 - accuracy: 0.0028\n",
            "Epoch 3/10\n",
            "363/363 [==============================] - 0s 866us/step - loss: 0.3773 - accuracy: 0.0028\n",
            "Epoch 4/10\n",
            "363/363 [==============================] - 0s 969us/step - loss: 0.3742 - accuracy: 0.0028\n",
            "Epoch 5/10\n",
            "363/363 [==============================] - 0s 831us/step - loss: 0.3742 - accuracy: 0.0028\n",
            "Epoch 6/10\n",
            "363/363 [==============================] - 0s 835us/step - loss: 0.3765 - accuracy: 0.0028\n",
            "Epoch 7/10\n",
            "363/363 [==============================] - 0s 838us/step - loss: 0.3740 - accuracy: 0.0028\n",
            "Epoch 8/10\n",
            "363/363 [==============================] - 0s 919us/step - loss: 0.3803 - accuracy: 0.0028\n",
            "Epoch 9/10\n",
            "363/363 [==============================] - 0s 828us/step - loss: 0.3739 - accuracy: 0.0028\n",
            "Epoch 10/10\n",
            "363/363 [==============================] - 0s 842us/step - loss: 0.3704 - accuracy: 0.0028\n"
          ]
        }
      ],
      "source": [
        "checkpoint_cb = keras.callbacks.ModelCheckpoint(r\"D:\\Sharif University of Tech\\Data\\Hands-on DL\\Season 1\\Model\\my_keras_model.h5\")\n",
        "history = model.fit(X_train, y_train, epochs=10, callbacks=[checkpoint_cb])"
      ]
    },
    {
      "cell_type": "markdown",
      "metadata": {},
      "source": [
        "and we can also implement an early stopping system aswell "
      ]
    },
    {
      "cell_type": "code",
      "execution_count": 64,
      "metadata": {},
      "outputs": [
        {
          "name": "stdout",
          "output_type": "stream",
          "text": [
            "Epoch 1/10\n",
            "363/363 [==============================] - 0s 1ms/step - loss: 0.3569 - accuracy: 0.0028 - val_loss: 0.3558 - val_accuracy: 0.0028\n",
            "Epoch 2/10\n",
            "200/363 [===============>..............] - ETA: 0s - loss: 0.3497 - accuracy: 0.0025"
          ]
        },
        {
          "name": "stderr",
          "output_type": "stream",
          "text": [
            "c:\\Users\\Acer\\AppData\\Local\\Programs\\Python\\Python310\\lib\\site-packages\\keras\\src\\engine\\training.py:3079: UserWarning: You are saving your model as an HDF5 file via `model.save()`. This file format is considered legacy. We recommend using instead the native Keras format, e.g. `model.save('my_model.keras')`.\n",
            "  saving_api.save_model(\n"
          ]
        },
        {
          "name": "stdout",
          "output_type": "stream",
          "text": [
            "363/363 [==============================] - 0s 1ms/step - loss: 0.3578 - accuracy: 0.0028 - val_loss: 0.3571 - val_accuracy: 0.0028\n",
            "Epoch 3/10\n",
            "363/363 [==============================] - 0s 1ms/step - loss: 0.3547 - accuracy: 0.0028 - val_loss: 0.3568 - val_accuracy: 0.0028\n",
            "Epoch 4/10\n",
            "363/363 [==============================] - 0s 1ms/step - loss: 0.3518 - accuracy: 0.0028 - val_loss: 0.3561 - val_accuracy: 0.0028\n",
            "Epoch 5/10\n",
            "363/363 [==============================] - 0s 1ms/step - loss: 0.3539 - accuracy: 0.0028 - val_loss: 0.3633 - val_accuracy: 0.0028\n",
            "Epoch 6/10\n",
            "363/363 [==============================] - 0s 1ms/step - loss: 0.3505 - accuracy: 0.0028 - val_loss: 0.3542 - val_accuracy: 0.0028\n",
            "Epoch 7/10\n",
            "363/363 [==============================] - 0s 1ms/step - loss: 0.3517 - accuracy: 0.0028 - val_loss: 0.3560 - val_accuracy: 0.0028\n",
            "Epoch 8/10\n",
            "363/363 [==============================] - 0s 1ms/step - loss: 0.3509 - accuracy: 0.0028 - val_loss: 0.3518 - val_accuracy: 0.0028\n",
            "Epoch 9/10\n",
            "363/363 [==============================] - 0s 1ms/step - loss: 0.3680 - accuracy: 0.0028 - val_loss: 0.3645 - val_accuracy: 0.0028\n",
            "Epoch 10/10\n",
            "363/363 [==============================] - 0s 1ms/step - loss: 0.3801 - accuracy: 0.0028 - val_loss: 0.3597 - val_accuracy: 0.0028\n"
          ]
        }
      ],
      "source": [
        "checkpoint_cb = keras.callbacks.ModelCheckpoint(\n",
        "    r\"D:\\Sharif University of Tech\\Data\\Hands-on DL\\Season 1\\Model\\my_keras_model.h5\", \n",
        "    save_best_only=True\n",
        ")\n",
        "\n",
        "history = model.fit(\n",
        "    X_train, \n",
        "    y_train, \n",
        "    epochs=10, \n",
        "    validation_data=(X_val, y_val), \n",
        "    callbacks=[checkpoint_cb]\n",
        ")\n",
        "\n",
        "# and now to roll back to the best model\n",
        "\n",
        "model = keras.models.load_model(r\"D:\\Sharif University of Tech\\Data\\Hands-on DL\\Season 1\\Model\\my_keras_model.h5\")"
      ]
    },
    {
      "cell_type": "markdown",
      "metadata": {},
      "source": [
        "We can create custom checkbacks aswell :"
      ]
    },
    {
      "cell_type": "code",
      "execution_count": 65,
      "metadata": {},
      "outputs": [],
      "source": [
        "class PrintValTrainRatioCallback(keras.callbacks.Callback):\n",
        "    def on_epoch_end(self, epoch, logs):\n",
        "        print(\"\\nval/train: {:.2f}\".format(logs[\"val_loss\"] / logs[\"loss\"]))"
      ]
    },
    {
      "cell_type": "markdown",
      "metadata": {},
      "source": [
        "now lets start visualizing the models we create with a powerful tool :"
      ]
    },
    {
      "cell_type": "markdown",
      "metadata": {},
      "source": [
        "# TensorBoard"
      ]
    },
    {
      "cell_type": "code",
      "execution_count": 79,
      "metadata": {},
      "outputs": [],
      "source": [
        "import os\n",
        "root_logdir = os.path.join(os.curdir, \"my_logs\")\n",
        "\n",
        "\n",
        "def get_run_logdir():\n",
        "    import time\n",
        "    run_id = time.strftime(\"run_%Y_%m_%d_%H_%M_%S\")\n",
        "    return os.path.join(root_logdir, run_id)"
      ]
    },
    {
      "cell_type": "code",
      "execution_count": 80,
      "metadata": {},
      "outputs": [],
      "source": [
        "run_logdir = get_run_logdir()"
      ]
    },
    {
      "cell_type": "code",
      "execution_count": 81,
      "metadata": {},
      "outputs": [],
      "source": [
        "from sklearn.datasets import fetch_california_housing\n",
        "from sklearn.model_selection import train_test_split\n",
        "from sklearn.preprocessing import StandardScaler\n",
        "\n",
        "\n",
        "housing = fetch_california_housing()"
      ]
    },
    {
      "cell_type": "code",
      "execution_count": 82,
      "metadata": {},
      "outputs": [],
      "source": [
        "scaler = StandardScaler()\n",
        "X_train = scaler.fit_transform(X_train)\n",
        "X_val = scaler.transform(X_val)\n",
        "X_test = scaler.transform(X_test)"
      ]
    },
    {
      "cell_type": "code",
      "execution_count": 83,
      "metadata": {},
      "outputs": [],
      "source": [
        "X_train_full, X_test, y_train_full, y_test = train_test_split(\n",
        "    housing.data, housing.target\n",
        ")\n",
        "X_train, X_val, y_train, y_val = train_test_split(\n",
        "    X_train_full, y_train_full\n",
        ")"
      ]
    },
    {
      "cell_type": "code",
      "execution_count": 84,
      "metadata": {},
      "outputs": [],
      "source": [
        "import tensorflow\n",
        "from tensorflow import keras\n",
        "\n",
        "model_1 = keras.models.Sequential([\n",
        "    keras.layers.Dense(30, activation=\"relu\", input_shape=X_train.shape[1:]),\n",
        "    keras.layers.Dense(1)\n",
        "])\n",
        "\n",
        "model_1.compile(\n",
        "    loss=\"mean_squared_error\",\n",
        "    optimizer=\"sgd\",\n",
        "    metrics = [\"accuracy\"]\n",
        ")"
      ]
    },
    {
      "cell_type": "code",
      "execution_count": 86,
      "metadata": {},
      "outputs": [],
      "source": [
        "tensorboard_cb = keras.callbacks.TensorBoard(run_logdir)"
      ]
    },
    {
      "cell_type": "code",
      "execution_count": 87,
      "metadata": {},
      "outputs": [
        {
          "name": "stdout",
          "output_type": "stream",
          "text": [
            "Epoch 1/20\n",
            "363/363 [==============================] - 0s 1ms/step - loss: 1.3273 - accuracy: 0.0028 - val_loss: 1.3299 - val_accuracy: 0.0034\n",
            "Epoch 2/20\n",
            "363/363 [==============================] - 0s 1ms/step - loss: 1.3273 - accuracy: 0.0028 - val_loss: 1.3295 - val_accuracy: 0.0034\n",
            "Epoch 3/20\n",
            "363/363 [==============================] - 0s 1ms/step - loss: 1.3274 - accuracy: 0.0028 - val_loss: 1.3307 - val_accuracy: 0.0034\n",
            "Epoch 4/20\n",
            "363/363 [==============================] - 0s 1ms/step - loss: 1.3275 - accuracy: 0.0028 - val_loss: 1.3292 - val_accuracy: 0.0034\n",
            "Epoch 5/20\n",
            "363/363 [==============================] - 0s 1ms/step - loss: 1.3276 - accuracy: 0.0028 - val_loss: 1.3291 - val_accuracy: 0.0034\n",
            "Epoch 6/20\n",
            "363/363 [==============================] - 0s 1ms/step - loss: 1.3273 - accuracy: 0.0028 - val_loss: 1.3291 - val_accuracy: 0.0034\n",
            "Epoch 7/20\n",
            "363/363 [==============================] - 0s 1ms/step - loss: 1.3273 - accuracy: 0.0028 - val_loss: 1.3290 - val_accuracy: 0.0034\n",
            "Epoch 8/20\n",
            "363/363 [==============================] - 0s 1ms/step - loss: 1.3275 - accuracy: 0.0028 - val_loss: 1.3290 - val_accuracy: 0.0034\n",
            "Epoch 9/20\n",
            "363/363 [==============================] - 0s 1ms/step - loss: 1.3273 - accuracy: 0.0028 - val_loss: 1.3295 - val_accuracy: 0.0034\n",
            "Epoch 10/20\n",
            "363/363 [==============================] - 0s 1ms/step - loss: 1.3273 - accuracy: 0.0028 - val_loss: 1.3297 - val_accuracy: 0.0034\n",
            "Epoch 11/20\n",
            "363/363 [==============================] - 0s 1ms/step - loss: 1.3274 - accuracy: 0.0028 - val_loss: 1.3292 - val_accuracy: 0.0034\n",
            "Epoch 12/20\n",
            "363/363 [==============================] - 0s 1ms/step - loss: 1.3275 - accuracy: 0.0028 - val_loss: 1.3292 - val_accuracy: 0.0034\n",
            "Epoch 13/20\n",
            "363/363 [==============================] - 0s 1ms/step - loss: 1.3274 - accuracy: 0.0028 - val_loss: 1.3291 - val_accuracy: 0.0034\n",
            "Epoch 14/20\n",
            "363/363 [==============================] - 0s 1ms/step - loss: 1.3273 - accuracy: 0.0028 - val_loss: 1.3292 - val_accuracy: 0.0034\n",
            "Epoch 15/20\n",
            "363/363 [==============================] - 0s 1ms/step - loss: 1.3273 - accuracy: 0.0028 - val_loss: 1.3290 - val_accuracy: 0.0034\n",
            "Epoch 16/20\n",
            "363/363 [==============================] - 0s 1ms/step - loss: 1.3274 - accuracy: 0.0028 - val_loss: 1.3294 - val_accuracy: 0.0034\n",
            "Epoch 17/20\n",
            "363/363 [==============================] - 1s 1ms/step - loss: 1.3275 - accuracy: 0.0028 - val_loss: 1.3293 - val_accuracy: 0.0034\n",
            "Epoch 18/20\n",
            "363/363 [==============================] - 0s 1ms/step - loss: 1.3271 - accuracy: 0.0028 - val_loss: 1.3290 - val_accuracy: 0.0034\n",
            "Epoch 19/20\n",
            "363/363 [==============================] - 1s 1ms/step - loss: 1.3275 - accuracy: 0.0028 - val_loss: 1.3290 - val_accuracy: 0.0034\n",
            "Epoch 20/20\n",
            "363/363 [==============================] - 1s 1ms/step - loss: 1.3275 - accuracy: 0.0028 - val_loss: 1.3291 - val_accuracy: 0.0034\n"
          ]
        }
      ],
      "source": [
        "history = model_1.fit(\n",
        "    X_train, y_train,\n",
        "    epochs = 20,\n",
        "    validation_data = (X_val, y_val), \n",
        "    callbacks=[tensorboard_cb]\n",
        ")"
      ]
    },
    {
      "cell_type": "markdown",
      "metadata": {},
      "source": [
        "and we can use low-level api to make a summary :"
      ]
    },
    {
      "cell_type": "code",
      "execution_count": 93,
      "metadata": {},
      "outputs": [],
      "source": [
        "test_logdir = get_run_logdir()\n",
        "writer = tf.summary.create_file_writer(test_logdir)\n",
        "\n",
        "with writer.as_default():\n",
        "    for step in range(1, 1001):\n",
        "        tf.summary.scalar(\"my_scaler\", np.sin(step / 10), step=step)\n",
        "\n",
        "\n",
        "        # for demonstration sake we will create random data here :\n",
        "        data = (np.random.randn(100) + 2) * step / 100\n",
        "        tf.summary.histogram(\"my_hist\", data, buckets=50, step=step)\n",
        "\n",
        "\n",
        "        # and random images :\n",
        "        images = np.random.rand(2, 32, 32, 3)\n",
        "        tf.summary.image(\"my_images\", images * step / 1000, step=step)\n",
        "\n",
        "\n",
        "        texts = [\"The step is \", str(step), \"Its square is  \", str(step * step)]\n",
        "        tf.summary.text(\"my_text\", texts, step=step)\n",
        "\n",
        "        \n",
        "        sine_wave = tf.math.sin(tf.range(12000) / 4800 * 2 * np.pi * step)\n",
        "        audio = tf.reshape(tf.cast(sine_wave, tf.float32), [1, -1, 1])\n",
        "        tf.summary.audio(\"my_audio\", audio, sample_rate=4800, step=step)"
      ]
    },
    {
      "cell_type": "markdown",
      "metadata": {},
      "source": [
        "Now let's tune some hyperparameters :"
      ]
    },
    {
      "cell_type": "markdown",
      "metadata": {},
      "source": [
        "there are 2 main methods \n",
        "\n",
        "one would be to use the follow the logic of the stochastic gradient descent, where we search portion's randomly (simply because it's not worth searchig every possibility)\n",
        "this algorithm (along with a k-fold method is available in a single library RandomizedSearchCV and GridSearchCV)\n",
        "\n",
        "\n",
        "another would be to use a simple grid search model to narrow down the search space and zoom in while being more and more percise each time \n",
        "this algorithm is the main one and is implemented in many libraries such as :\n",
        "* Hyperopt\n",
        "* Talos, kopt, Hyperas\n",
        "* Keras Tuner\n",
        "* Scikit-Optimizer\n",
        "* Spearmint\n",
        "* Hyperbrand\n",
        "* Sklearn-Deep"
      ]
    },
    {
      "cell_type": "markdown",
      "metadata": {},
      "source": [
        "Here is an implementation of the first method :"
      ]
    },
    {
      "cell_type": "code",
      "execution_count": 94,
      "metadata": {},
      "outputs": [],
      "source": [
        "def build_model(n_hidden=1, n_neurons=30, learning_rate=3e-3, input_shape=[8]):\n",
        "    model = keras.models.Sequential()\n",
        "    model.add(keras.layers.InputLayer(input_shape=input_shape))\n",
        "    for layer in range(n_hidden):\n",
        "        model.add(keras.layers.Dense(n_neurons, activation=\"relu\"))\n",
        "    model.add(keras.layers.Dense(1))\n",
        "\n",
        "    optimizer = keras.optimizers.SGD(learning_rate=learning_rate)\n",
        "    model.compile(\n",
        "        loss=\"mse\", \n",
        "        optimizer=optimizer\n",
        "    )\n",
        "\n",
        "    return model"
      ]
    },
    {
      "cell_type": "code",
      "execution_count": 100,
      "metadata": {},
      "outputs": [],
      "source": [
        "from keras.wrappers.scikit_learn import KerasRegressor\n",
        "\n",
        "\n",
        "keras_reg = KerasRegressor(build_model)"
      ]
    },
    {
      "cell_type": "code",
      "execution_count": 104,
      "metadata": {},
      "outputs": [],
      "source": [
        "keras_reg.fit(\n",
        "    X_train, \n",
        "    y_train, \n",
        "    epochs=100, \n",
        "    validation_data=(X_val, y_val), \n",
        "    callbacks=[keras.callbacks.EarlyStopping(patience=10)]\n",
        ")"
      ]
    },
    {
      "cell_type": "code",
      "execution_count": 105,
      "metadata": {},
      "outputs": [],
      "source": [
        "mse_test = keras_reg.score(X_test, y_test)"
      ]
    },
    {
      "cell_type": "code",
      "execution_count": 106,
      "metadata": {},
      "outputs": [],
      "source": [
        "from scipy.stats import reciprocal\n",
        "from sklearn.model_selection import RandomizedSearchCV\n",
        "\n",
        "\n",
        "param_distribs = {\n",
        "    \"n_hidden\": [0, 1, 2, 3], \n",
        "    \"n_neurons\": np.arange(1, 100), \n",
        "    \"learning_rate\": reciprocal(3e-4, 3e-2)\n",
        "}\n",
        "\n",
        "rnd_search_cv = RandomizedSearchCV(\n",
        "    keras_reg, \n",
        "    param_distribs, \n",
        "    n_iter=10, \n",
        "    cv=3\n",
        ")"
      ]
    },
    {
      "cell_type": "code",
      "execution_count": 107,
      "metadata": {},
      "outputs": [],
      "source": [
        "rnd_search_cv.fit(\n",
        "    X_train, \n",
        "    y_train, \n",
        "    epochs=100,\n",
        "    validation_data=(X_val, y_val), \n",
        "    callbacks=[keras.callbacks.EarlyStopping(patience=10)]\n",
        ")"
      ]
    }
  ],
  "metadata": {
    "colab": {
      "provenance": []
    },
    "kernelspec": {
      "display_name": "Python 3",
      "name": "python3"
    },
    "language_info": {
      "codemirror_mode": {
        "name": "ipython",
        "version": 3
      },
      "file_extension": ".py",
      "mimetype": "text/x-python",
      "name": "python",
      "nbconvert_exporter": "python",
      "pygments_lexer": "ipython3",
      "version": "3.10.11"
    }
  },
  "nbformat": 4,
  "nbformat_minor": 0
}
